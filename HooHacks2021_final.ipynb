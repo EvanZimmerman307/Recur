{
 "cells": [
  {
   "cell_type": "code",
   "execution_count": null,
   "metadata": {},
   "outputs": [],
   "source": [
    "import numpy as np\n",
    "from datascience import *\n",
    "\n",
    "\n",
    "\n",
    "\n",
    "import matplotlib\n",
    "%matplotlib inline\n",
    "import matplotlib.pyplot as plt\n",
    "plt.style.use('fivethirtyeight')\n",
    "import warnings\n",
    "warnings.simplefilter('ignore', FutureWarning)"
   ]
  },
  {
   "cell_type": "code",
   "execution_count": null,
   "metadata": {},
   "outputs": [],
   "source": [
    "def get_subs():\n",
    "    global subscription_list\n",
    "    count_subs = subs_with_prices.group(\"Description\")\n",
    "    count_subs\n",
    "    real_subs = count_subs.where(\"count\", are.above(1))\n",
    "    real_subs\n",
    "\n",
    "    num_options = len(real_subs.column(\"Description\"))\n",
    "    subscription_list = make_array()\n",
    "    for i in range(num_options):\n",
    "        subscription = real_subs.column(\"Description\").item(i)\n",
    "        question = input(\"Is \" + subscription + \" one of your subscriptions? (answer yes or no)\")\n",
    "        answer = question.lower()\n",
    "    \n",
    "        if answer == \"yes\":\n",
    "            subscription_list = np.append(subscription_list, subscription)\n",
    "        \n",
    "    return subscription_list"
   ]
  },
  {
   "cell_type": "code",
   "execution_count": null,
   "metadata": {},
   "outputs": [],
   "source": [
    "def get_prices():\n",
    "    price_array = make_array()\n",
    "    reps = len(subscription_list)\n",
    "\n",
    "    for i in range(reps):\n",
    "        price =  subs_with_prices.where(\"Description\", are.equal_to(subscription_list.item(i))).column(\"Amount\").item(i)\n",
    "        price_array = np.append(price_array, price)\n",
    "    \n",
    "    price_array = price_array * -1\n",
    "       \n",
    "    return price_array"
   ]
  },
  {
   "cell_type": "code",
   "execution_count": null,
   "metadata": {},
   "outputs": [],
   "source": [
    "def get_subscription_table(csvfile):\n",
    "    global subs_with_prices\n",
    "    raw_table = Table.read_table(csvfile)\n",
    "    amount_count = raw_table.group(\"Amount\")\n",
    "    amount_count = amount_count.where(\"Amount\", are.below(0))\n",
    "    count_of_multi_payments = amount_count.where(\"count\", are.above(1))\n",
    "    subs_with_prices = count_of_multi_payments.join(\"Amount\", raw_table)\n",
    "    \n",
    "    subscription_array = get_subs()\n",
    "    price_array = get_prices()\n",
    "    \n",
    "    \n",
    "    subscription_table = Table().with_columns(\"Subscription\", subscription_array, \"Price($)\", price_array)\n",
    "    \n",
    "    \n",
    "    return  subscription_table"
   ]
  },
  {
   "cell_type": "code",
   "execution_count": null,
   "metadata": {},
   "outputs": [],
   "source": [
    "S_and_P = Table.read_table(\"stonks.csv\")\n",
    "Symbols = S_and_P.column(\"Symbol\")\n",
    "money = 0"
   ]
  },
  {
   "cell_type": "code",
   "execution_count": null,
   "metadata": {},
   "outputs": [],
   "source": [
    "def cancel():\n",
    "    global money\n",
    "    while True:\n",
    "        for i in range(len(table_of_subscriptions.column('Subscription'))):\n",
    "            option = input(f\"Do you want to cancel {table_of_subscriptions.column('Subscription').item(i)}?: \").lower()\n",
    "            if 'yes' in option:\n",
    "                money += table_of_subscriptions.column('Price($)').item(i)\n",
    "                \n",
    "            elif 'no' in option:\n",
    "                None\n",
    "            else:\n",
    "                print(\"Try again. \")\n",
    "        return money"
   ]
  },
  {
   "cell_type": "code",
   "execution_count": null,
   "metadata": {},
   "outputs": [],
   "source": [
    "def options():\n",
    "    global money\n",
    "    option = ['automatic', 'manual']\n",
    "    investing_option = input(f'Do you want automatic or manual investing with your saved subscription money? \\n {option}').lower()\n",
    "    while money >= 0:\n",
    "        if investing_option == option[0]:\n",
    "            print(\"Great!  We'll take care of the rest, relax and enjoy your savings!\")\n",
    "            return\n",
    "        elif investing_option == option[1]:\n",
    "            invest = input('What company do you want to invest in?\\n Enter the ticker symbol:')\n",
    "            \n",
    "            while invest not in Symbols:\n",
    "                print(\"Invalid Ticker!!!\")\n",
    "                invest = input(\"Enter a valid ticker\")\n",
    "            if invest in Symbols:\n",
    "                invest_amount = float(input(\"How much would you like to invest?(Enter a number) \"))\n",
    "                \n",
    "                if money >= invest_amount:\n",
    "                    money -= invest_amount\n",
    "                    money = round(money, 2)\n",
    "                    print(\"You invested $\" + str(invest_amount) + \". You now have $\" + str(money) + \" left.\\n\")\n",
    "                    if money == 0:\n",
    "                        print(\"You have no money left to invest!\")\n",
    "                        return \n",
    "                    \n",
    "                    invest_again = input(\"Do you want to invest more? \").lower()\n",
    "        \n",
    "                    if \"n\" in invest_again:\n",
    "                        print(\"Awesome!\")\n",
    "                        return money\n",
    "                    elif \"y\" in invest_again:\n",
    "                        print(\"Great!\")\n",
    "                elif money <= invest_amount:\n",
    "                    print(\"Try again\")"
   ]
  },
  {
   "cell_type": "code",
   "execution_count": null,
   "metadata": {},
   "outputs": [],
   "source": [
    "table_of_subscriptions = get_subscription_table(\"HooHacks_test.csv\")\n",
    "table_of_subscriptions"
   ]
  },
  {
   "cell_type": "code",
   "execution_count": null,
   "metadata": {},
   "outputs": [],
   "source": [
    "cancel()"
   ]
  },
  {
   "cell_type": "code",
   "execution_count": null,
   "metadata": {},
   "outputs": [],
   "source": [
    "options()"
   ]
  },
  {
   "cell_type": "code",
   "execution_count": null,
   "metadata": {},
   "outputs": [],
   "source": [
    "#Example csv to use as test case attached"
   ]
  }
 ],
 "metadata": {
  "kernelspec": {
   "display_name": "Python 3",
   "language": "python",
   "name": "python3"
  },
  "language_info": {
   "codemirror_mode": {
    "name": "ipython",
    "version": 3
   },
   "file_extension": ".py",
   "mimetype": "text/x-python",
   "name": "python",
   "nbconvert_exporter": "python",
   "pygments_lexer": "ipython3",
   "version": "3.8.5"
  }
 },
 "nbformat": 4,
 "nbformat_minor": 4
}
